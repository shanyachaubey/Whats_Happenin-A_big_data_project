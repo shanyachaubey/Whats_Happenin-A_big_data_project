{
 "cells": [
  {
   "cell_type": "code",
   "execution_count": 14,
   "metadata": {},
   "outputs": [],
   "source": [
    "from nltk.tokenize import word_tokenize\n",
    "from nltk.corpus import stopwords\n",
    "import re\n",
    "from nltk import FreqDist\n",
    "import string\n",
    "from collections import defaultdict"
   ]
  },
  {
   "cell_type": "code",
   "execution_count": 2,
   "metadata": {},
   "outputs": [],
   "source": [
    "test = str(\"article\\n\\nThe Doobie Brothers will perform in Tinley Park this summer as part of a national tour across 38 cities.\\n\\nThe Grammy-winning rockers will play a show with special guest Steve Winwood at Credit Union 1 Amphitheatre on Sunday, Aug. 24.\\n\\nGeneral tickets go on sale Friday at 10 a.m. with a limited number of VIP packages available.\\n\\nCiti cardmembers will be eligible to buy presale tickets at 10 a.m. Tuesday.\\n\\nThe Doobie Brothers 2024 tour schedule\\n\\nSat., June 15 Seattle, WA White River Amphitheater\\n\\nSun., June 16 Ridgefield,WA RV Inn Style Resorts Amphitheater\\n\\nTues., June 18 Bend, OR Hayden Homes Amphitheater\\n\\nThurs., June 20 Wheatland, CA Toyota Amphitheatre\\n\\nSat., June 22 Concord, CA Concord Pavilion\\n\\nSun., June 23 Los Angeles, CA The Kia Forum\\n\\nTues., June 25 San Diego, CA North Island Credit Union Amphitheatre\\n\\nWed., June 26 Phoenix, AZ Footprint Center\\n\\nSat., June 29 Dallas, TX Dos Equis Pavilion\\n\\nSun., June 30 The Woodlands, TX Cynthia Woods Mitchell Pavilion\\n\\nTues., July 2 Tulsa, OK BOK Center\\n\\nWed., July 3 Durant, OK Choctaw Casino and Resort\\n\\nSat., July 6 Rogers, AR Walmart AMP\\n\\nMon., July 8 Jacksonville, FL Daily's Place\\n\\nWed., July 10 West Palm Beach, FL iTHINK Financial Amphitheatre\\n\\nThurs., July 11 Tampa, FL MIDFLORIDA Credit Union Amphitheatre\\n\\nSat., July 13 Alpharetta, GA Ameris Bank Amphitheatre\\n\\nSun., July 14 Knoxville, TN Thompson-Boling Arena\\n\\nTues., July 30 Charlotte, NC PNC Music Pavilion\\n\\nWed., July 31 Raleigh, NC Coastal Credit Union Music Park\\n\\nSat., August 3 Camden, NJ Freedom Mortgage Pavilion\\n\\nSun., August 4 Bristow, VA Jiffy Lube Live\\n\\nTues., August 6 Holmdel, NJ PNC Bank Arts Center\\n\\nWed., August 7 New York, NY Madison Square Garden\\n\\nFri., August 9 Bridgeport, CT Hartford Care Amphitheater\\n\\nSat., August 10 Gilford, NH BankNH Pavilion\\n\\nMon., August 12 Mansfield, MA Xfinity Center\\n\\nTues., August 13 Saratoga Springs, NY Broadview Stage at SPAC\\n\\nThurs., August 15 Clarkston, MI Pine Knob Music Theatre\\n\\nSat., August 17 Noblesville, IN Ruoff Music Center\\n\\nSun., August 18 Cincinnati, OH Riverbend Music Center\\n\\nTues., August 20 Burgettstown, PA The Pavilion at Star Lake\\n\\nThurs., August 22 Cuyahoga Falls, OH Blossom Music Center\\n\\nSat., August 24 St. Louis, MO Hollywood Casino Amphitheatre\\n\\nSun., August 25 Tinley Park, IL Credit Union 1 Amphitheatre\\n\\nTues., August 27 Omaha, NE CHI  Center\\n\\nThurs., August 29 Denver, CO Ball Arena\\n\\nFri., August 30 Salt Lake City, UT USANA Amphitheater\")"
   ]
  },
  {
   "cell_type": "code",
   "execution_count": 19,
   "metadata": {},
   "outputs": [],
   "source": [
    "def process_string(text):\n",
    "\n",
    "    \"\"\"\n",
    "    This function processing raw string by making words lowercase\n",
    "    removing punctuations, removing whitespace, special characters\n",
    "\n",
    "    Args:\n",
    "        text (str): Raw input string\n",
    "    \n",
    "    Return:\n",
    "        text (str): String with punctuations, whitespaces, special characters removed.\n",
    "\n",
    "    \"\"\"\n",
    "\n",
    "    # Making the text lower case\n",
    "    text = text.lower() \n",
    "\n",
    "    # Removing punctuations\n",
    "    translator = str.maketrans('', '', string.punctuation)\n",
    "    text = text.translate(translator)\n",
    "\n",
    "    # Removing whitespace\n",
    "    text = \" \".join(text.split())\n",
    "\n",
    "    return text"
   ]
  },
  {
   "cell_type": "code",
   "execution_count": 20,
   "metadata": {},
   "outputs": [
    {
     "name": "stdout",
     "output_type": "stream",
     "text": [
      "article the doobie brothers will perform in tinley park this summer as part of a national tour across 38 cities the grammywinning rockers will play a show with special guest steve winwood at credit union 1 amphitheatre on sunday aug 24 general tickets go on sale friday at 10 am with a limited number of vip packages available citi cardmembers will be eligible to buy presale tickets at 10 am tuesday the doobie brothers 2024 tour schedule sat june 15 seattle wa white river amphitheater sun june 16 ridgefieldwa rv inn style resorts amphitheater tues june 18 bend or hayden homes amphitheater thurs june 20 wheatland ca toyota amphitheatre sat june 22 concord ca concord pavilion sun june 23 los angeles ca the kia forum tues june 25 san diego ca north island credit union amphitheatre wed june 26 phoenix az footprint center sat june 29 dallas tx dos equis pavilion sun june 30 the woodlands tx cynthia woods mitchell pavilion tues july 2 tulsa ok bok center wed july 3 durant ok choctaw casino and resort sat july 6 rogers ar walmart amp mon july 8 jacksonville fl dailys place wed july 10 west palm beach fl ithink financial amphitheatre thurs july 11 tampa fl midflorida credit union amphitheatre sat july 13 alpharetta ga ameris bank amphitheatre sun july 14 knoxville tn thompsonboling arena tues july 30 charlotte nc pnc music pavilion wed july 31 raleigh nc coastal credit union music park sat august 3 camden nj freedom mortgage pavilion sun august 4 bristow va jiffy lube live tues august 6 holmdel nj pnc bank arts center wed august 7 new york ny madison square garden fri august 9 bridgeport ct hartford care amphitheater sat august 10 gilford nh banknh pavilion mon august 12 mansfield ma xfinity center tues august 13 saratoga springs ny broadview stage at spac thurs august 15 clarkston mi pine knob music theatre sat august 17 noblesville in ruoff music center sun august 18 cincinnati oh riverbend music center tues august 20 burgettstown pa the pavilion at star lake thurs august 22 cuyahoga falls oh blossom music center sat august 24 st louis mo hollywood casino amphitheatre sun august 25 tinley park il credit union 1 amphitheatre tues august 27 omaha ne chi center thurs august 29 denver co ball arena fri august 30 salt lake city ut usana amphitheater\n"
     ]
    }
   ],
   "source": [
    "print(process_string(test))"
   ]
  }
 ],
 "metadata": {
  "kernelspec": {
   "display_name": ".venv",
   "language": "python",
   "name": "python3"
  },
  "language_info": {
   "codemirror_mode": {
    "name": "ipython",
    "version": 3
   },
   "file_extension": ".py",
   "mimetype": "text/x-python",
   "name": "python",
   "nbconvert_exporter": "python",
   "pygments_lexer": "ipython3",
   "version": "3.10.2"
  }
 },
 "nbformat": 4,
 "nbformat_minor": 2
}
