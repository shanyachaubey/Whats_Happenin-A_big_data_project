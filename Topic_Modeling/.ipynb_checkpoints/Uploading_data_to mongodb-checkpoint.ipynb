{
 "cells": [
  {
   "cell_type": "code",
   "execution_count": 4,
   "metadata": {},
   "outputs": [
    {
     "name": "stdout",
     "output_type": "stream",
     "text": [
      "Data inserted successfully!\n"
     ]
    }
   ],
   "source": [
    "import pymongo\n",
    "import json\n",
    "\n",
    "# Connect to MongoDB (assuming it's running locally on the default port)\n",
    "client = pymongo.MongoClient(\"mongodb://localhost:27017/\")\n",
    "\n",
    "# Select database\n",
    "db = client[\"mydatabase\"]  # Replace \"mydatabase\" with your database name\n",
    "\n",
    "# Select collection\n",
    "collection = db[\"mycollection\"]  # Replace \"mycollection\" with your collection name\n",
    "\n",
    "# Load JSON data from file\n",
    "with open(\"/Users/lohithramesh/Desktop/M.S in Data Science/Semester 2/Big Data Architecture/Whats Happening/Whats_Happenin-A_big_data_project-1/Topic_Modeling/chicago_raw_that_prateek_will_store_in_mongo.json\", \"r\") as file:\n",
    "    data = json.load(file)\n",
    "\n",
    "# Insert the JSON data into the collection\n",
    "collection.insert_one(data)\n",
    "\n",
    "print(\"Data inserted successfully!\")\n"
   ]
  },
  {
   "cell_type": "code",
   "execution_count": null,
   "metadata": {},
   "outputs": [],
   "source": []
  }
 ],
 "metadata": {
  "kernelspec": {
   "display_name": "Python 3 (ipykernel)",
   "language": "python",
   "name": "python3"
  },
  "language_info": {
   "codemirror_mode": {
    "name": "ipython",
    "version": 3
   },
   "file_extension": ".py",
   "mimetype": "text/x-python",
   "name": "python",
   "nbconvert_exporter": "python",
   "pygments_lexer": "ipython3",
   "version": "3.11.8"
  }
 },
 "nbformat": 4,
 "nbformat_minor": 4
}
