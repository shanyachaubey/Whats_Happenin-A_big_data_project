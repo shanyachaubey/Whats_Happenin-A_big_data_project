{
 "cells": [
  {
   "cell_type": "code",
   "execution_count": null,
   "metadata": {},
   "outputs": [],
   "source": [
    "import requests\n",
    "import string\n",
    "import json\n",
    "import re\n",
    "import pandas as pd\n"
   ]
  },
  {
   "cell_type": "code",
   "execution_count": null,
   "metadata": {},
   "outputs": [],
   "source": [
    "filename = 'APIcall.csv'\n",
    "\n",
    "#Making file for caching and working on dataset, do not need to retain all the data\n",
    "write_column_names = ['title', 'author', 'published_date', 'link', 'excerpt', 'summary', 'rank', 'topic', 'clean_url']\n",
    "\n",
    "#Making file to save permanently to our database\n"
   ]
  },
  {
   "cell_type": "code",
   "execution_count": null,
   "metadata": {},
   "outputs": [],
   "source": [
    "endpoint = 'https://api.newscatcherapi.com/v2/search?'\n",
    "places = ['Boulder', 'Longmont']\n",
    "start_date = '2024/01/20'\n",
    "end_date = '2024/02/05'\n",
    "headers = {'x-api-key': 'CmKYSqkNfns_AIfY0Rs9AmxcSYJhf6nVuFchtXKsOr8'}\n",
    "\n",
    "#Add constraint using regex to avoid any searches with Reporting by Brad Brooks in Longmont, Colorado\n",
    "\n",
    "params = {\n",
    "    'q': 'Longmont, Colorado',\n",
    "    'lang': 'en',\n",
    "    'countries': 'US',\n",
    "    'ranked_only': True,\n",
    "    'sort_by': 'rank',\n",
    "    'page_size': 100,\n",
    "    'page':1,\n",
    "    'to': end_date,\n",
    "    'from': start_date\n",
    "}\n",
    "\n",
    "response = requests.get(endpoint, headers=headers, params=params)\n",
    "print(response)\n",
    "json_text = response.json()\n",
    "json_str = json.dumps(json_text, indent=4)\n",
    "print(json_str)"
   ]
  }
 ],
 "metadata": {
  "language_info": {
   "name": "python"
  }
 },
 "nbformat": 4,
 "nbformat_minor": 2
}
